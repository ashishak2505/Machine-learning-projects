{
 "cells": [
  {
   "cell_type": "code",
   "execution_count": 1,
   "id": "c73cf861-adc3-4c94-ab56-b5b42b1ae410",
   "metadata": {},
   "outputs": [],
   "source": [
    "import pandas as pd\n",
    "from sklearn.utils import resample\n",
    "from sklearn.model_selection import train_test_split\n",
    "from sklearn.linear_model import LogisticRegression\n",
    "from sklearn import metrics\n",
    "import matplotlib.pyplot as plt\n",
    "import seaborn as sns"
   ]
  },
  {
   "cell_type": "code",
   "execution_count": 2,
   "id": "62b7bc91-ad82-4925-9ea9-9d67c231b173",
   "metadata": {
    "scrolled": true
   },
   "outputs": [
    {
     "name": "stdout",
     "output_type": "stream",
     "text": [
      "<class 'pandas.core.frame.DataFrame'>\n",
      "RangeIndex: 4521 entries, 0 to 4520\n",
      "Data columns (total 11 columns):\n",
      " #   Column             Non-Null Count  Dtype \n",
      "---  ------             --------------  ----- \n",
      " 0   age                4521 non-null   int64 \n",
      " 1   job                4521 non-null   object\n",
      " 2   marital            4521 non-null   object\n",
      " 3   education          4521 non-null   object\n",
      " 4   default            4521 non-null   object\n",
      " 5   balance            4521 non-null   int64 \n",
      " 6   housing-loan       4521 non-null   object\n",
      " 7   personal-loan      4521 non-null   object\n",
      " 8   current-campaign   4521 non-null   int64 \n",
      " 9   previous-campaign  4521 non-null   int64 \n",
      " 10  subscribed         4521 non-null   object\n",
      "dtypes: int64(4), object(7)\n",
      "memory usage: 388.7+ KB\n"
     ]
    }
   ],
   "source": [
    "bank_df = pd.read_csv(r'C:\\Users\\Ashish\\Desktop\\machine learning\\bank.csv')\n",
    "bank_df.info()"
   ]
  },
  {
   "cell_type": "code",
   "execution_count": 3,
   "id": "4210c007-c0a8-447e-93c2-d60a456b168f",
   "metadata": {},
   "outputs": [
    {
     "data": {
      "text/plain": [
       "subscribed\n",
       "no     4000\n",
       "yes     521\n",
       "Name: count, dtype: int64"
      ]
     },
     "execution_count": 3,
     "metadata": {},
     "output_type": "execute_result"
    }
   ],
   "source": [
    "bank_df.subscribed.value_counts()"
   ]
  },
  {
   "cell_type": "code",
   "execution_count": 4,
   "id": "4af00dff-7e22-450e-8352-7e0c43ebbf18",
   "metadata": {},
   "outputs": [],
   "source": [
    "# separate the case of yes-subscribe and no-subscribe\n",
    "bank_subscribed_no= bank_df[bank_df.subscribed == 'no']\n",
    "bank_subscribed_yes= bank_df[bank_df.subscribed == 'yes']\n",
    "\n",
    "# upsample the yes-subscribe cases\n",
    "df_minority_upsampled = resample(bank_subscribed_yes, replace = True, n_samples = 2000)"
   ]
  },
  {
   "cell_type": "raw",
   "id": "a4e661dd-228f-49fa-8e66-d83766113951",
   "metadata": {},
   "source": [
    "# combine majority class with upsampled minority class\n",
    "new_bank_df = pd.concat([bank_subscribed_no, df_minority_upsampled])"
   ]
  },
  {
   "cell_type": "code",
   "execution_count": 5,
   "id": "4e475eee-015f-4e28-8dbf-523877405696",
   "metadata": {},
   "outputs": [
    {
     "ename": "NameError",
     "evalue": "name 'new_bank_df' is not defined",
     "output_type": "error",
     "traceback": [
      "\u001b[1;31m---------------------------------------------------------------------------\u001b[0m",
      "\u001b[1;31mNameError\u001b[0m                                 Traceback (most recent call last)",
      "Cell \u001b[1;32mIn[5], line 2\u001b[0m\n\u001b[0;32m      1\u001b[0m \u001b[38;5;28;01mfrom\u001b[39;00m \u001b[38;5;21;01msklearn\u001b[39;00m\u001b[38;5;21;01m.\u001b[39;00m\u001b[38;5;21;01mutils\u001b[39;00m \u001b[38;5;28;01mimport\u001b[39;00m shuffle\n\u001b[1;32m----> 2\u001b[0m new_bank_df \u001b[38;5;241m=\u001b[39m shuffle(new_bank_df)\n",
      "\u001b[1;31mNameError\u001b[0m: name 'new_bank_df' is not defined"
     ]
    }
   ],
   "source": [
    "from sklearn.utils import shuffle\n",
    "new_bank_df = shuffle(new_bank_df)"
   ]
  },
  {
   "cell_type": "code",
   "execution_count": null,
   "id": "e160af91-c16a-4821-ad52-0851035db5d7",
   "metadata": {},
   "outputs": [],
   "source": [
    "#assigning list of all column names in the DataFrame\n",
    "X_features = list(new_bank_df.columns)\n",
    "#remove the responce variable from the list\n",
    "X_features.remove('subscribed')\n",
    "X_features"
   ]
  },
  {
   "cell_type": "code",
   "execution_count": null,
   "id": "6ecf78ef-97ad-46e8-99e5-1de4d27a9eb9",
   "metadata": {},
   "outputs": [],
   "source": [
    "encoded_bank_df = pd.get_dummies(new_bank_df[X_features], drop_first = True)\n",
    "X = encoded_bank_df"
   ]
  },
  {
   "cell_type": "code",
   "execution_count": null,
   "id": "a6b25ad4-9e02-4e6b-926e-867e62615afd",
   "metadata": {},
   "outputs": [],
   "source": [
    "# Encoded the subcribed columns and assigning to Y\n",
    "Y = new_bank_df.subscribed.map(lambda x: int(x == 'yes'))"
   ]
  },
  {
   "cell_type": "code",
   "execution_count": null,
   "id": "ca36f404-f51e-4a1b-85c9-34d5f21912e3",
   "metadata": {},
   "outputs": [],
   "source": [
    "train_X, test_X, train_Y, test_Y = train_test_split(X, Y, test_size = 0.3, random_state = 42)"
   ]
  },
  {
   "cell_type": "code",
   "execution_count": null,
   "id": "70ac364e-ee1e-4bd9-8238-727f2f9df699",
   "metadata": {},
   "outputs": [],
   "source": [
    "logit = LogisticRegression()\n",
    "logit.fit(train_X, train_Y)"
   ]
  },
  {
   "cell_type": "code",
   "execution_count": null,
   "id": "0ca98b45-9842-4294-be58-778f18a559b4",
   "metadata": {},
   "outputs": [],
   "source": [
    "pred_y = logit.predict(test_X)"
   ]
  },
  {
   "cell_type": "code",
   "execution_count": null,
   "id": "6489cd5e-deef-4e5d-a3e9-dce767d236e6",
   "metadata": {},
   "outputs": [],
   "source": [
    "# defining the matrix to draw the confusion matrix from actual and predicting class labels\n",
    "def draw_cm(actual, predicted):\n",
    "    # Invoking confusion_matrix from metric packege. the matrix \n",
    "    #will be oriented as [1,0] i.e. the classes with label 1 will be\n",
    "    #represented by the first row and 0 as second row\n",
    "    cm = metrics.confusion_matrix(actual, predicted, labels=[1,0])\n",
    "    sns.heatmap(cm, annot = True, fmt = '.2f',\n",
    "                xticklabels = [\"Subscribed\", \"Not subscribed\"],\n",
    "                yticklabels = [\"Subscribed\", \"Not subscribed \"])\n",
    "    plt.ylabel('True label')\n",
    "    plt.xlabel('Predicted label')\n",
    "    plt.show()"
   ]
  },
  {
   "cell_type": "code",
   "execution_count": null,
   "id": "66c63c04-df0c-4b86-a45a-5d118452746b",
   "metadata": {},
   "outputs": [],
   "source": [
    "cm= draw_cm(test_Y,pred_y)"
   ]
  },
  {
   "cell_type": "code",
   "execution_count": null,
   "id": "3ba1d1e5-ffc9-4b68-bd5c-cecc16f65852",
   "metadata": {},
   "outputs": [],
   "source": [
    "print(metrics.classification_report(test_Y, pred_y))"
   ]
  },
  {
   "cell_type": "code",
   "execution_count": null,
   "id": "b7e38058-5451-4b97-a659-fefb1e8dc5d6",
   "metadata": {},
   "outputs": [],
   "source": [
    "predict_proba_df = pd.DataFrame(logit.predict_proba(test_X))\n",
    "predict_proba_df.head()"
   ]
  },
  {
   "cell_type": "code",
   "execution_count": null,
   "id": "8ecd1857-8e2a-4674-8a8e-ab80d28b4d1d",
   "metadata": {},
   "outputs": [],
   "source": [
    "# inititalize the dataframe with actual class labels\n",
    "test_result_df = pd.DataFrame({'actual' : test_Y})\n",
    "test_result_df = test_result_df.reset_index()\n",
    "#assigning the probability values for class label 1\n",
    "test_result_df['chd_1']= predict_proba_df.iloc[:, 1:2]"
   ]
  },
  {
   "cell_type": "code",
   "execution_count": null,
   "id": "a2d1e79a-d142-41dd-a396-b3bf21334f57",
   "metadata": {},
   "outputs": [],
   "source": [
    "test_result_df.head()"
   ]
  },
  {
   "cell_type": "code",
   "execution_count": null,
   "id": "48bdaeef-0e25-4934-a350-7cf14c039c49",
   "metadata": {},
   "outputs": [],
   "source": [
    "#passing actual class labels and predicted probability values\n",
    "#to compute ROC AUC score\n",
    "auc_score = metrics.roc_auc_score(test_result_df.actual, test_result_df.chd_1)\n",
    "round( float(auc_score), 2)"
   ]
  },
  {
   "cell_type": "code",
   "execution_count": null,
   "id": "23979d29-2b92-4f6e-ab40-4c5aad22feae",
   "metadata": {},
   "outputs": [],
   "source": [
    "#the maethod takes the following three parameters\n",
    "## model : the classification model\n",
    "## test_x : X features of the test set\n",
    "## test_y: actual labels of the test set\n",
    "## returns\n",
    "## - ROC Auc score\n",
    "## FPR and TPR for different threshold values\n",
    "def draw_roc_curve(model, test_X, test_Y):\n",
    "    ## creating and initialising a result dataframe with actual labels\n",
    "    test_result_df = pd.DataFrame({'actual' : test_Y})\n",
    "    test_result_df = test_result_df.reset_index()\n",
    "    # predict the probabilities on the test set\n",
    "    predict_proba_df = pd.DataFrame(model.predict_proba(test_X))\n",
    "    ## selecting the probabilities that test example belong to class 1\n",
    "    test_result_df['chd_1'] = predict_proba_df.iloc[:, 1:2]\n",
    "    ## invoke the roc curve to return fpr, tpr and threshold values\n",
    "    ## threshold vlaues contain values 0.0 to 1.0 \n",
    "    fpr, tpr, thresholds = metrics.roc_curve(test_result_df.actual, test_result_df.chd_1, drop_intermediate=False)\n",
    "    ## getting roc auc score by invoking metrics.roce_auc_score method\n",
    "    auc_score = metrics.roc_auc_score(test_result_df.actual, test_result_df.chd_1)\n",
    "    ## setting the size of the plot \n",
    "    plt.figure(figsize = (8,6))\n",
    "    plt.plot(fpr, tpr, label = 'ROC curve(area = %a.2f)' % auc_score)\n",
    "    plt.plot ([0,1],[0,1], 'k--')\n",
    "    plt.xlim([0.0, 1.0])\n",
    "    plt.ylim([0.0, 1.05])\n",
    "    plt.xlabel('FALSE Positive Rate or [1- true negative rate]')\n",
    "    plt.ylabel('True Positive Rate')\n",
    "    plt.legend(loc = \"lower right\")\n",
    "    plt.show()\n",
    "    return auc_score, fpr, tpr, thresholds"
   ]
  },
  {
   "cell_type": "code",
   "execution_count": null,
   "id": "584ef0fe-b92f-4187-a3e3-7cd30c807634",
   "metadata": {},
   "outputs": [],
   "source": [
    "_, _, _, _ = draw_roc_curve(logit, test_X, test_Y)"
   ]
  },
  {
   "cell_type": "code",
   "execution_count": null,
   "id": "e5830f6f-2a00-43a2-aeaf-bf1f1b374e5b",
   "metadata": {},
   "outputs": [],
   "source": [
    "from sklearn.neighbors import KNeighborsClassifier"
   ]
  },
  {
   "cell_type": "code",
   "execution_count": null,
   "id": "8293995c-1994-4907-b510-6f69717a5eee",
   "metadata": {},
   "outputs": [],
   "source": [
    "# initializing the classifire\n",
    "knn_cif = KNeighborsClassifier()\n",
    "## fititing the model with the training set\n",
    "knn_cif.fit(train_X, train_Y)"
   ]
  },
  {
   "cell_type": "code",
   "execution_count": null,
   "id": "ad6c2a71-9c29-4770-add8-9b2a80a4e561",
   "metadata": {},
   "outputs": [],
   "source": [
    "_, _, _, _ = draw_roc_curve(knn_cif, test_X, test_Y)"
   ]
  },
  {
   "cell_type": "code",
   "execution_count": null,
   "id": "f2d2e652-f221-43c2-a3da-20dde106d1e5",
   "metadata": {},
   "outputs": [],
   "source": [
    "#predicting on test set\n",
    "pred_y = knn_cif.predict(test_X)\n",
    "## drawing the confusion matrix\n",
    "draw_cm(test_Y, pred_y)"
   ]
  },
  {
   "cell_type": "code",
   "execution_count": null,
   "id": "007c0c1e-73a9-4eb3-92cb-e55dc2cf6a1e",
   "metadata": {},
   "outputs": [],
   "source": [
    "print(metrics.classification_report(test_Y, pred_y))"
   ]
  },
  {
   "cell_type": "code",
   "execution_count": null,
   "id": "98053b4b-3fe4-4989-8a2f-f208123e7cca",
   "metadata": {},
   "outputs": [],
   "source": [
    "from sklearn.model_selection import GridSearchCV\n",
    "tuned_parameters = [{'n_neighbors' : range(5,10), 'metric': ['canberra', 'euclidean', 'minkowski']}]\n",
    "## congifuring grid search \n",
    "cif = GridSearchCV(KNeighborsClassifier(), tuned_parameters, cv=  10, scoring = 'roc_auc')\n",
    "## fit the search with training set\n",
    "cif.fit(train_X, train_Y)"
   ]
  },
  {
   "cell_type": "code",
   "execution_count": null,
   "id": "1f066cd1-150a-4c2f-b80b-bd786e2c9023",
   "metadata": {},
   "outputs": [],
   "source": [
    "cif.best_score_"
   ]
  },
  {
   "cell_type": "code",
   "execution_count": null,
   "id": "464230b6-b7c2-4a57-a3e6-0509e8c1e4ba",
   "metadata": {},
   "outputs": [],
   "source": [
    "cif.best_params_"
   ]
  },
  {
   "cell_type": "code",
   "execution_count": null,
   "id": "82624d10-d6e7-4ef0-89ea-8c0da4c96fe1",
   "metadata": {},
   "outputs": [],
   "source": [
    "cif.cv_results_"
   ]
  },
  {
   "cell_type": "code",
   "execution_count": null,
   "id": "87f79d58-feac-40be-aebe-94930a28f8e3",
   "metadata": {},
   "outputs": [],
   "source": [
    "from sklearn.ensemble import RandomForestClassifier"
   ]
  },
  {
   "cell_type": "code",
   "execution_count": null,
   "id": "66123cde-5ff4-4ddf-96e6-8ee4942a39bc",
   "metadata": {},
   "outputs": [],
   "source": [
    "radm_cif = RandomForestClassifier(max_depth = 10, n_estimators = 10)\n",
    "radm_cif.fit(train_X, train_Y)"
   ]
  },
  {
   "cell_type": "code",
   "execution_count": null,
   "id": "1bbab2b2-e95c-44f7-abe5-e75f04878de8",
   "metadata": {},
   "outputs": [],
   "source": [
    "tuned_parameters = [{'max_depth' : [10,15], 'n_estimators' : [10,20], 'max_features' : ['sqrt', 0.2]}]\n",
    "radm_cif = RandomForestClassifier()\n",
    "cif = GridSearchCV(radm_cif,tuned_parameters, cv=5, scoring= 'roc_auc')\n",
    "cif.fit(train_X, train_Y)"
   ]
  },
  {
   "cell_type": "code",
   "execution_count": null,
   "id": "68809252-781a-4c21-bc0a-5c4485a4fef9",
   "metadata": {},
   "outputs": [],
   "source": [
    "cif.best_score_"
   ]
  },
  {
   "cell_type": "code",
   "execution_count": null,
   "id": "e01ed5aa-798a-442f-ab66-c2586f85e89e",
   "metadata": {},
   "outputs": [],
   "source": [
    "cif.best_params_"
   ]
  },
  {
   "cell_type": "code",
   "execution_count": null,
   "id": "b84802b6-e20f-4c27-95c3-2db9faca74b9",
   "metadata": {},
   "outputs": [],
   "source": [
    "radm_cif = RandomForestClassifier(max_depth=15, n_estimators=20, max_features='sqrt')\n",
    "radm_cif.fit(train_X, train_Y)"
   ]
  },
  {
   "cell_type": "code",
   "execution_count": null,
   "id": "2a219547-c11c-4aec-a5fd-8138b9bece82",
   "metadata": {},
   "outputs": [],
   "source": [
    "_, _, _, _ = draw_roc_curve(cif, test_X, test_Y)"
   ]
  },
  {
   "cell_type": "code",
   "execution_count": null,
   "id": "9038663a-e8ad-42d8-bb37-2b036ddb4b5d",
   "metadata": {},
   "outputs": [],
   "source": [
    "pred_y = radm_cif.predict(test_X)\n",
    "draw_cm(test_Y, pred_y)"
   ]
  },
  {
   "cell_type": "code",
   "execution_count": null,
   "id": "ca7e4fee-54e4-4ee8-942a-b366bca56e79",
   "metadata": {},
   "outputs": [],
   "source": [
    "print(metrics.classification_report(test_Y, pred_y))"
   ]
  },
  {
   "cell_type": "code",
   "execution_count": null,
   "id": "42618efa-45a6-41f2-8cc9-870530f09133",
   "metadata": {},
   "outputs": [],
   "source": [
    "import numpy as np\n",
    "#create a dataframe to store the features and their corresponding importance\n",
    "feature_rank = pd.DataFrame({'feature' : train_X.columns, 'importance' : radm_cif.feature_importances_})\n",
    "# sorting the feature based on their importance with most\n",
    "# important features at top\n",
    "feature_rank = feature_rank.sort_values('importance', ascending = False)\n",
    "plt.figure(figsize = (8,6))\n",
    "#plot the values\n",
    "sns.barplot(y = 'feature', x = 'importance', data = feature_rank);"
   ]
  },
  {
   "cell_type": "code",
   "execution_count": null,
   "id": "eb8ffe76-4ae3-4b41-9a89-3ab8364fd704",
   "metadata": {},
   "outputs": [],
   "source": [
    "feature_rank['cumsum'] = feature_rank.importance.cumsum()*100\n",
    "feature_rank.head(10)"
   ]
  },
  {
   "cell_type": "code",
   "execution_count": null,
   "id": "5c998f1f-cc2b-4e8a-beab-ceae821df2a0",
   "metadata": {},
   "outputs": [],
   "source": [
    "from sklearn.ensemble import AdaBoostClassifier\n",
    "# initialise the logistic regression to use as base classifier\n",
    "log_reg = LogisticRegression()\n",
    "# inititaliseing adaboost classifier\n",
    "ada_clf = AdaBoostClassifier(log_reg, n_estimators=50)\n",
    "#fitting adaboost model to training set\n",
    "ada_clf.fit(train_X, train_Y)"
   ]
  },
  {
   "cell_type": "code",
   "execution_count": null,
   "id": "29b41cf4-4802-4780-b929-d9f7b894307f",
   "metadata": {},
   "outputs": [],
   "source": [
    "_, _, _, _ = draw_roc_curve(ada_clf, test_X, test_Y)"
   ]
  },
  {
   "cell_type": "code",
   "execution_count": null,
   "id": "c863caea-02cb-4659-aff2-1ed8b023a0c6",
   "metadata": {},
   "outputs": [],
   "source": [
    "from sklearn.ensemble import GradientBoostingClassifier\n",
    "gboost_clf = GradientBoostingClassifier(n_estimators=500, max_depth=10)\n",
    "gboost_clf.fit(train_X, train_Y)"
   ]
  },
  {
   "cell_type": "code",
   "execution_count": null,
   "id": "11536f58-ae0a-4e36-bddb-90f5214a4dd5",
   "metadata": {},
   "outputs": [],
   "source": [
    "_, _, _, _ = draw_roc_curve(gboost_clf, test_X, test_Y)"
   ]
  },
  {
   "cell_type": "code",
   "execution_count": null,
   "id": "dc6dfd08-ea42-41ff-b54b-dd7b3c2726ae",
   "metadata": {},
   "outputs": [],
   "source": [
    "from sklearn.model_selection import cross_val_score\n",
    "gboost_clf = GradientBoostingClassifier(n_estimators=500, max_depth=10)\n",
    "cv_scores = cross_val_score(gboost_clf, train_X, train_Y, cv= 10, scoring = 'roc_auc')"
   ]
  },
  {
   "cell_type": "code",
   "execution_count": null,
   "id": "3b99725f-e48a-433b-86e4-2b3fb6effc03",
   "metadata": {},
   "outputs": [],
   "source": [
    "print(cv_scores)\n",
    "print(\"Mean Accuracy :\" , np.mean(cv_scores), \"with standard deviation of:\", np.std(cv_scores))"
   ]
  },
  {
   "cell_type": "code",
   "execution_count": null,
   "id": "b4548571-0604-4955-8357-c73403b118ac",
   "metadata": {},
   "outputs": [],
   "source": [
    "gboost_clf.fit(train_X, train_Y)\n",
    "pred_y = gboost_clf.predict(test_X)\n",
    "draw_cm(test_Y, pred_y)"
   ]
  },
  {
   "cell_type": "code",
   "execution_count": null,
   "id": "a62f36fa-d3fc-4dba-b97d-c3a022192541",
   "metadata": {},
   "outputs": [],
   "source": [
    "print(metrics.classification_report(test_Y, pred_y))"
   ]
  },
  {
   "cell_type": "code",
   "execution_count": null,
   "id": "0f04c300-1dcb-4e18-acc8-c16a0b3d39a4",
   "metadata": {},
   "outputs": [],
   "source": [
    "feature_rank = pd.DataFrame({'feature': train_X.columns, 'importance': gboost_clf.feature_importances_})\n",
    "feature_rank = feature_rank.sort_values('importance', ascending = False)\n",
    "plt.figure(figsize = (8,6))\n",
    "sns.barplot(y = 'feature', x = 'importance', data = feature_rank);"
   ]
  },
  {
   "cell_type": "code",
   "execution_count": null,
   "id": "09c84f3b-dcf9-44d9-ac32-7f2cbffe073e",
   "metadata": {},
   "outputs": [],
   "source": []
  }
 ],
 "metadata": {
  "kernelspec": {
   "display_name": "Python 3 (ipykernel)",
   "language": "python",
   "name": "python3"
  },
  "language_info": {
   "codemirror_mode": {
    "name": "ipython",
    "version": 3
   },
   "file_extension": ".py",
   "mimetype": "text/x-python",
   "name": "python",
   "nbconvert_exporter": "python",
   "pygments_lexer": "ipython3",
   "version": "3.12.7"
  }
 },
 "nbformat": 4,
 "nbformat_minor": 5
}
